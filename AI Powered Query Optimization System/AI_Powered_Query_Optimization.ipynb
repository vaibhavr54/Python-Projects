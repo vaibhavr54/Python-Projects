{
 "cells": [
  {
   "cell_type": "code",
   "execution_count": 1,
   "id": "227c6a32-7d81-47d3-acef-2d626ec898ec",
   "metadata": {},
   "outputs": [
    {
     "name": "stdout",
     "output_type": "stream",
     "text": [
      "Requirement already satisfied: pymongo in c:\\users\\vaibh\\appdata\\local\\programs\\python\\python312\\lib\\site-packages (4.10.1)\n",
      "Requirement already satisfied: pandas in c:\\users\\vaibh\\appdata\\local\\programs\\python\\python312\\lib\\site-packages (2.2.2)\n",
      "Requirement already satisfied: scikit-learn in c:\\users\\vaibh\\appdata\\local\\programs\\python\\python312\\lib\\site-packages (1.5.0)\n",
      "Requirement already satisfied: matplotlib in c:\\users\\vaibh\\appdata\\local\\programs\\python\\python312\\lib\\site-packages (3.8.4)\n",
      "Requirement already satisfied: dnspython<3.0.0,>=1.16.0 in c:\\users\\vaibh\\appdata\\local\\programs\\python\\python312\\lib\\site-packages (from pymongo) (2.7.0)\n",
      "Requirement already satisfied: numpy>=1.26.0 in c:\\users\\vaibh\\appdata\\local\\programs\\python\\python312\\lib\\site-packages (from pandas) (1.26.4)\n",
      "Requirement already satisfied: python-dateutil>=2.8.2 in c:\\users\\vaibh\\appdata\\local\\programs\\python\\python312\\lib\\site-packages (from pandas) (2.9.0.post0)\n",
      "Requirement already satisfied: pytz>=2020.1 in c:\\users\\vaibh\\appdata\\local\\programs\\python\\python312\\lib\\site-packages (from pandas) (2024.1)\n",
      "Requirement already satisfied: tzdata>=2022.7 in c:\\users\\vaibh\\appdata\\local\\programs\\python\\python312\\lib\\site-packages (from pandas) (2024.1)\n",
      "Requirement already satisfied: scipy>=1.6.0 in c:\\users\\vaibh\\appdata\\local\\programs\\python\\python312\\lib\\site-packages (from scikit-learn) (1.14.0)\n",
      "Requirement already satisfied: joblib>=1.2.0 in c:\\users\\vaibh\\appdata\\local\\programs\\python\\python312\\lib\\site-packages (from scikit-learn) (1.4.2)\n",
      "Requirement already satisfied: threadpoolctl>=3.1.0 in c:\\users\\vaibh\\appdata\\local\\programs\\python\\python312\\lib\\site-packages (from scikit-learn) (3.5.0)\n",
      "Requirement already satisfied: contourpy>=1.0.1 in c:\\users\\vaibh\\appdata\\local\\programs\\python\\python312\\lib\\site-packages (from matplotlib) (1.2.1)\n",
      "Requirement already satisfied: cycler>=0.10 in c:\\users\\vaibh\\appdata\\local\\programs\\python\\python312\\lib\\site-packages (from matplotlib) (0.12.1)\n",
      "Requirement already satisfied: fonttools>=4.22.0 in c:\\users\\vaibh\\appdata\\local\\programs\\python\\python312\\lib\\site-packages (from matplotlib) (4.51.0)\n",
      "Requirement already satisfied: kiwisolver>=1.3.1 in c:\\users\\vaibh\\appdata\\local\\programs\\python\\python312\\lib\\site-packages (from matplotlib) (1.4.5)\n",
      "Requirement already satisfied: packaging>=20.0 in c:\\users\\vaibh\\appdata\\local\\programs\\python\\python312\\lib\\site-packages (from matplotlib) (23.2)\n",
      "Requirement already satisfied: pillow>=8 in c:\\users\\vaibh\\appdata\\local\\programs\\python\\python312\\lib\\site-packages (from matplotlib) (10.4.0)\n",
      "Requirement already satisfied: pyparsing>=2.3.1 in c:\\users\\vaibh\\appdata\\local\\programs\\python\\python312\\lib\\site-packages (from matplotlib) (3.1.2)\n",
      "Requirement already satisfied: six>=1.5 in c:\\users\\vaibh\\appdata\\local\\programs\\python\\python312\\lib\\site-packages (from python-dateutil>=2.8.2->pandas) (1.16.0)\n"
     ]
    }
   ],
   "source": [
    "!pip install pymongo pandas scikit-learn matplotlib"
   ]
  },
  {
   "cell_type": "code",
   "execution_count": 2,
   "id": "b5bf0990-ac3f-4ddc-b0ab-9a9310fb7be2",
   "metadata": {},
   "outputs": [],
   "source": [
    "from pymongo import MongoClient\n",
    "\n",
    "client = MongoClient(\"mongodb://localhost:27017/\")\n",
    "db = client['store']"
   ]
  },
  {
   "cell_type": "code",
   "execution_count": 7,
   "id": "378973e7-ee7a-4b1e-b639-26e2ade6d072",
   "metadata": {},
   "outputs": [],
   "source": [
    "import pymongo\n",
    "import pandas as pd\n",
    "\n",
    "# Connect to MongoDB and fetch profiling data\n",
    "client = pymongo.MongoClient(\"mongodb://localhost:27017/\")\n",
    "db = client['store']\n",
    "\n",
    "# Fetch profiling data\n",
    "profile_data = list(db.system.profile.find().sort(\"ts\", -1))\n",
    "\n",
    "# Convert to pandas DataFrame\n",
    "df = pd.DataFrame(profile_data)\n",
    "\n",
    "# Save to CSV\n",
    "df.to_csv(\"query_performance_logs.csv\", index=False)"
   ]
  },
  {
   "cell_type": "code",
   "execution_count": 8,
   "id": "e9c7b359-5582-466c-a1b7-cf1d6ce705c6",
   "metadata": {},
   "outputs": [
    {
     "data": {
      "text/html": [
       "<div>\n",
       "<style scoped>\n",
       "    .dataframe tbody tr th:only-of-type {\n",
       "        vertical-align: middle;\n",
       "    }\n",
       "\n",
       "    .dataframe tbody tr th {\n",
       "        vertical-align: top;\n",
       "    }\n",
       "\n",
       "    .dataframe thead th {\n",
       "        text-align: right;\n",
       "    }\n",
       "</style>\n",
       "<table border=\"1\" class=\"dataframe\">\n",
       "  <thead>\n",
       "    <tr style=\"text-align: right;\">\n",
       "      <th></th>\n",
       "      <th>query_length</th>\n",
       "      <th>used_index</th>\n",
       "      <th>docsExamined</th>\n",
       "      <th>nreturned</th>\n",
       "      <th>millis</th>\n",
       "    </tr>\n",
       "  </thead>\n",
       "  <tbody>\n",
       "    <tr>\n",
       "      <th>0</th>\n",
       "      <td>13</td>\n",
       "      <td>0</td>\n",
       "      <td>8.0</td>\n",
       "      <td>8.0</td>\n",
       "      <td>0</td>\n",
       "    </tr>\n",
       "    <tr>\n",
       "      <th>1</th>\n",
       "      <td>13</td>\n",
       "      <td>0</td>\n",
       "      <td>7.0</td>\n",
       "      <td>7.0</td>\n",
       "      <td>0</td>\n",
       "    </tr>\n",
       "    <tr>\n",
       "      <th>2</th>\n",
       "      <td>13</td>\n",
       "      <td>0</td>\n",
       "      <td>6.0</td>\n",
       "      <td>6.0</td>\n",
       "      <td>0</td>\n",
       "    </tr>\n",
       "    <tr>\n",
       "      <th>3</th>\n",
       "      <td>13</td>\n",
       "      <td>0</td>\n",
       "      <td>5.0</td>\n",
       "      <td>5.0</td>\n",
       "      <td>0</td>\n",
       "    </tr>\n",
       "    <tr>\n",
       "      <th>4</th>\n",
       "      <td>15</td>\n",
       "      <td>0</td>\n",
       "      <td>4.0</td>\n",
       "      <td>4.0</td>\n",
       "      <td>0</td>\n",
       "    </tr>\n",
       "  </tbody>\n",
       "</table>\n",
       "</div>"
      ],
      "text/plain": [
       "   query_length  used_index  docsExamined  nreturned  millis\n",
       "0            13           0           8.0        8.0       0\n",
       "1            13           0           7.0        7.0       0\n",
       "2            13           0           6.0        6.0       0\n",
       "3            13           0           5.0        5.0       0\n",
       "4            15           0           4.0        4.0       0"
      ]
     },
     "execution_count": 8,
     "metadata": {},
     "output_type": "execute_result"
    }
   ],
   "source": [
    "# Extract query length from the 'command' field\n",
    "df['query_length'] = df['command'].apply(lambda x: len(str(x).split()))\n",
    "\n",
    "# Used index (if keysExamined is greater than 0, an index was used)\n",
    "df['used_index'] = df['keysExamined'].apply(lambda x: 1 if x > 0 else 0)\n",
    "\n",
    "# Other features like 'nscanned', 'nreturned', and 'millis'\n",
    "features = df[['query_length', 'used_index', 'docsExamined', 'nreturned', 'millis']]\n",
    "\n",
    "# Display the processed features\n",
    "features.head()"
   ]
  },
  {
   "cell_type": "markdown",
   "id": "f67d3def-d31e-4aa4-96f5-0764114f60aa",
   "metadata": {},
   "source": [
    "#### Essential features ready (query_length, used_index, docsExamined, nreturned, and millis) to train the machine learning model to predict query performance (execution time)."
   ]
  },
  {
   "cell_type": "code",
   "execution_count": 9,
   "id": "08e11715-60ae-457a-afc9-1eeca4760125",
   "metadata": {},
   "outputs": [],
   "source": [
    "# Fill missing values (NaNs) with zeros\n",
    "features = features.fillna(0)"
   ]
  },
  {
   "cell_type": "code",
   "execution_count": 19,
   "id": "13cf1e4e-4bd2-42bf-b98e-260c3172e9b7",
   "metadata": {},
   "outputs": [
    {
     "name": "stdout",
     "output_type": "stream",
     "text": [
      "Training the model...\n",
      "Model trained successfully.\n",
      "Mean Squared Error: 12.801799999999998\n"
     ]
    },
    {
     "data": {
      "text/plain": [
       "['scaler.pkl']"
      ]
     },
     "execution_count": 19,
     "metadata": {},
     "output_type": "execute_result"
    }
   ],
   "source": [
    "import pandas as pd\n",
    "import numpy as np\n",
    "from sklearn.model_selection import train_test_split\n",
    "from sklearn.ensemble import RandomForestRegressor\n",
    "from sklearn.preprocessing import StandardScaler\n",
    "from sklearn.metrics import mean_squared_error\n",
    "import joblib\n",
    "\n",
    "# Load your data (replace with your actual data loading logic)\n",
    "df = pd.read_csv(\"query_performance_logs.csv\")  # or another data source\n",
    "\n",
    "# Feature engineering\n",
    "df['query_length'] = df['command'].apply(lambda x: len(str(x).split()))\n",
    "df['used_index'] = df['keysExamined'].apply(lambda x: 1 if x > 0 else 0)\n",
    "df.fillna(0, inplace=True)  # Handle missing values\n",
    "\n",
    "# Prepare features and target\n",
    "X = df[['query_length', 'used_index', 'docsExamined', 'nreturned']]\n",
    "y = df['millis']\n",
    "\n",
    "# Split the data into training and testing sets\n",
    "X_train, X_test, y_train, y_test = train_test_split(X, y, test_size=0.2, random_state=42)\n",
    "\n",
    "# Scale the data\n",
    "scaler = StandardScaler()\n",
    "X_train_scaled = scaler.fit_transform(X_train)\n",
    "X_test_scaled = scaler.transform(X_test)\n",
    "\n",
    "# Train the model with scaled features\n",
    "model = RandomForestRegressor()\n",
    "\n",
    "print(\"Training the model...\")\n",
    "model.fit(X_train_scaled, y_train)\n",
    "print(\"Model trained successfully.\")\n",
    "\n",
    "# Make predictions\n",
    "predictions = model.predict(X_test_scaled)\n",
    "\n",
    "# Evaluate the model\n",
    "mse = mean_squared_error(y_test, predictions)\n",
    "print(f\"Mean Squared Error: {mse}\")\n",
    "\n",
    "# Save the trained model and scaler\n",
    "joblib.dump(model, 'random_forest_model.pkl')  # Save the model\n",
    "joblib.dump(scaler, 'scaler.pkl')               # Save the scaler"
   ]
  },
  {
   "cell_type": "markdown",
   "id": "22ca2243-95d2-46b4-bcb5-84bef58bdfe5",
   "metadata": {},
   "source": [
    "#### A Mean Squared Error (MSE) of 12.80 is a significant improvement, showing that the model is now making much smaller errors in its predictions"
   ]
  },
  {
   "cell_type": "code",
   "execution_count": 24,
   "id": "d7ee37f8-f26b-4066-a2bc-48016af425f9",
   "metadata": {},
   "outputs": [
    {
     "name": "stdout",
     "output_type": "stream",
     "text": [
      "query_length: 0.310525086755261\n",
      "used_index: 0.0\n",
      "docsExamined: 0.42512658716332874\n",
      "nreturned: 0.26434832608141023\n"
     ]
    }
   ],
   "source": [
    "# Get feature importances\n",
    "importances = model.feature_importances_\n",
    "feature_names = ['query_length', 'used_index', 'docsExamined', 'nreturned']\n",
    "\n",
    "# Display feature importances\n",
    "for feature, importance in zip(feature_names, importances):\n",
    "    print(f\"{feature}: {importance}\")"
   ]
  },
  {
   "cell_type": "markdown",
   "id": "de6794fc-28fe-45c5-bdc9-ae07f4bf921b",
   "metadata": {},
   "source": [
    "#### The feature importance scores listed indicate how much each feature contributes to the model’s performance in predicting query execution time.\n"
   ]
  },
  {
   "cell_type": "code",
   "execution_count": 25,
   "id": "fcf28514-0bf6-4c29-88d7-22946b89cfd1",
   "metadata": {},
   "outputs": [
    {
     "data": {
      "image/png": "[encoded data removed]",
      "text/plain": [
       "<Figure size 1000x600 with 1 Axes>"
      ]
     },
     "metadata": {},
     "output_type": "display_data"
    }
   ],
   "source": [
    "import matplotlib.pyplot as plt\n",
    "\n",
    "plt.figure(figsize=(10, 6))\n",
    "plt.scatter(range(len(y_test)), y_test, label='Actual Time', color='blue')\n",
    "plt.scatter(range(len(predictions)), predictions, label='Predicted Time', color='red')\n",
    "plt.xlabel('Query Index')\n",
    "plt.ylabel('Execution Time (ms)')\n",
    "plt.title('Actual vs Predicted Query Execution Time')\n",
    "plt.legend()\n",
    "plt.show()"
   ]
  },
  {
   "cell_type": "markdown",
   "id": "7c1fd77c-df41-4766-9eb3-940474961478",
   "metadata": {},
   "source": [
    "#### More the execution time, more is need to optimize your query."
   ]
  },
  {
   "cell_type": "code",
   "execution_count": 26,
   "id": "a6d658e0-1bb5-4d3a-88bc-febcf83d081e",
   "metadata": {},
   "outputs": [
    {
     "data": {
      "image/png": "[encoded data removed]",
      "text/plain": [
       "<Figure size 800x500 with 1 Axes>"
      ]
     },
     "metadata": {},
     "output_type": "display_data"
    }
   ],
   "source": [
    "import numpy as np\n",
    "import matplotlib.pyplot as plt\n",
    "\n",
    "# Assuming `importances` contains the feature importances from your trained model\n",
    "# and `feature_names` is a list of the corresponding feature names.\n",
    "importances = model.feature_importances_  # Get feature importances from your model\n",
    "feature_names = ['query_length', 'used_index', 'docsExamined', 'nreturned']\n",
    "\n",
    "# Convert importances to percentage\n",
    "importances_percentage = importances * 100\n",
    "\n",
    "# Plot feature importance\n",
    "plt.figure(figsize=(8, 5))\n",
    "indices = np.argsort(importances_percentage)  # Get the indices of the sorted importances\n",
    "\n",
    "plt.title('Feature Importances (%)')\n",
    "bars = plt.barh(range(len(indices)), importances_percentage[indices], align='center')\n",
    "plt.yticks(range(len(indices)), [feature_names[i] for i in indices])\n",
    "plt.xlabel('Importance (%)')\n",
    "\n",
    "# Annotate each bar with the percentage value\n",
    "for bar in bars:\n",
    "    width = bar.get_width()  # Get the width of the bar\n",
    "    plt.text(width + 1, bar.get_y() + bar.get_height() / 2, f'{width:.2f}%', \n",
    "             va='center')  # Add text annotation next to the bar\n",
    "\n",
    "plt.show()"
   ]
  },
  {
   "cell_type": "code",
   "execution_count": 29,
   "id": "63df60c3-3e28-4bf3-8197-fbd9290b311e",
   "metadata": {},
   "outputs": [
    {
     "name": "stderr",
     "output_type": "stream",
     "text": [
      "2024-10-11 17:34:46.768 Thread 'MainThread': missing ScriptRunContext! This warning can be ignored when running in bare mode.\n",
      "2024-10-11 17:34:46.769 Thread 'MainThread': missing ScriptRunContext! This warning can be ignored when running in bare mode.\n",
      "2024-10-11 17:34:46.771 Thread 'MainThread': missing ScriptRunContext! This warning can be ignored when running in bare mode.\n",
      "2024-10-11 17:34:46.771 Thread 'MainThread': missing ScriptRunContext! This warning can be ignored when running in bare mode.\n",
      "2024-10-11 17:34:46.773 Thread 'MainThread': missing ScriptRunContext! This warning can be ignored when running in bare mode.\n",
      "2024-10-11 17:34:46.774 Thread 'MainThread': missing ScriptRunContext! This warning can be ignored when running in bare mode.\n",
      "2024-10-11 17:34:46.775 Thread 'MainThread': missing ScriptRunContext! This warning can be ignored when running in bare mode.\n",
      "2024-10-11 17:34:46.776 Thread 'MainThread': missing ScriptRunContext! This warning can be ignored when running in bare mode.\n",
      "2024-10-11 17:34:46.777 Thread 'MainThread': missing ScriptRunContext! This warning can be ignored when running in bare mode.\n",
      "2024-10-11 17:34:46.778 Thread 'MainThread': missing ScriptRunContext! This warning can be ignored when running in bare mode.\n",
      "2024-10-11 17:34:46.778 Thread 'MainThread': missing ScriptRunContext! This warning can be ignored when running in bare mode.\n",
      "2024-10-11 17:34:46.780 Thread 'MainThread': missing ScriptRunContext! This warning can be ignored when running in bare mode.\n",
      "2024-10-11 17:34:46.781 Thread 'MainThread': missing ScriptRunContext! This warning can be ignored when running in bare mode.\n",
      "2024-10-11 17:34:46.782 Thread 'MainThread': missing ScriptRunContext! This warning can be ignored when running in bare mode.\n",
      "2024-10-11 17:34:46.782 Thread 'MainThread': missing ScriptRunContext! This warning can be ignored when running in bare mode.\n",
      "2024-10-11 17:34:46.783 Thread 'MainThread': missing ScriptRunContext! This warning can be ignored when running in bare mode.\n",
      "2024-10-11 17:34:46.784 Thread 'MainThread': missing ScriptRunContext! This warning can be ignored when running in bare mode.\n",
      "2024-10-11 17:34:46.784 Thread 'MainThread': missing ScriptRunContext! This warning can be ignored when running in bare mode.\n",
      "2024-10-11 17:34:46.785 Thread 'MainThread': missing ScriptRunContext! This warning can be ignored when running in bare mode.\n",
      "2024-10-11 17:34:46.786 Thread 'MainThread': missing ScriptRunContext! This warning can be ignored when running in bare mode.\n",
      "2024-10-11 17:34:46.786 Thread 'MainThread': missing ScriptRunContext! This warning can be ignored when running in bare mode.\n",
      "2024-10-11 17:34:46.787 Thread 'MainThread': missing ScriptRunContext! This warning can be ignored when running in bare mode.\n",
      "2024-10-11 17:34:46.787 Thread 'MainThread': missing ScriptRunContext! This warning can be ignored when running in bare mode.\n",
      "C:\\Users\\vaibh\\AppData\\Local\\Programs\\Python\\Python312\\Lib\\site-packages\\sklearn\\base.py:493: UserWarning: X does not have valid feature names, but StandardScaler was fitted with feature names\n",
      "  warnings.warn(\n",
      "2024-10-11 17:34:46.905 Thread 'MainThread': missing ScriptRunContext! This warning can be ignored when running in bare mode.\n",
      "2024-10-11 17:34:46.905 Thread 'MainThread': missing ScriptRunContext! This warning can be ignored when running in bare mode.\n",
      "2024-10-11 17:34:46.906 Thread 'MainThread': missing ScriptRunContext! This warning can be ignored when running in bare mode.\n",
      "2024-10-11 17:34:46.907 Thread 'MainThread': missing ScriptRunContext! This warning can be ignored when running in bare mode.\n"
     ]
    },
    {
     "name": "stdout",
     "output_type": "stream",
     "text": [
      "Training the model...\n",
      "Model trained successfully.\n"
     ]
    }
   ],
   "source": [
    "import streamlit as st\n",
    "from sklearn.ensemble import RandomForestRegressor\n",
    "from sklearn.preprocessing import StandardScaler\n",
    "\n",
    "# Streamlit app\n",
    "st.title('AI-Powered Query Optimization')\n",
    "\n",
    "# User inputs (for simplicity, we're hardcoding query features here)\n",
    "query_length = st.slider('Query Length', 1, 50, 10)\n",
    "used_index = st.selectbox('Used Index', [0, 1])\n",
    "docs_examined = st.slider('Documents Examined', 1, 10000, 1000)\n",
    "nreturned = st.slider('Documents Returned', 1, 5000, 500)\n",
    "\n",
    "# Load trained model (replace with your trained model)\n",
    "model = RandomForestRegressor()\n",
    "\n",
    "print(\"Training the model...\")\n",
    "model.fit(X_train_scaled, y_train)\n",
    "print(\"Model trained successfully.\")\n",
    "\n",
    "# Make prediction\n",
    "input_data = [[query_length, used_index, docs_examined, nreturned]]\n",
    "scaled_data = scaler.transform(input_data)  # Assuming you've scaled the data\n",
    "prediction = model.predict(scaled_data)\n",
    "\n",
    "st.write(f'Predicted Query Execution Time: {prediction[0]} ms')"
   ]
  },
  {
   "cell_type": "code",
   "execution_count": 47,
   "id": "c6742023-b089-46c2-9cb0-c5ed848d6120",
   "metadata": {},
   "outputs": [
    {
     "name": "stdout",
     "output_type": "stream",
     "text": [
      "Predicted execution time: 5.87 ms\n",
      "Suggestions:\n",
      "- Consider adding an index to improve query performance.\n"
     ]
    },
    {
     "name": "stderr",
     "output_type": "stream",
     "text": [
      "C:\\Users\\vaibh\\AppData\\Local\\Programs\\Python\\Python312\\Lib\\site-packages\\sklearn\\base.py:493: UserWarning: X does not have valid feature names, but StandardScaler was fitted with feature names\n",
      "  warnings.warn(\n"
     ]
    }
   ],
   "source": [
    "from pymongo import MongoClient\n",
    "import joblib\n",
    "import numpy as np\n",
    "import time\n",
    "\n",
    "# Load the trained model and scaler\n",
    "model = joblib.load('random_forest_model.pkl')  # Load your trained model\n",
    "scaler = joblib.load('scaler.pkl')  # Load your scaler\n",
    "\n",
    "# Connect to MongoDB\n",
    "client = MongoClient('mongodb://localhost:27017/')\n",
    "db = client['store']  # Replace with your actual database name\n",
    "collection = db['orders']  # Assuming your collection is named 'orders'\n",
    "\n",
    "def run_query_and_predict(query):\n",
    "    # Execute the query and measure its execution time\n",
    "    start_time = time.time()  # Start timing the query execution\n",
    "    result = collection.find(query).sort(\"order_date\", -1)  # Sort by order_date in descending order\n",
    "    execution_time = time.time() - start_time  # Calculate execution time\n",
    "    \n",
    "    # Extract execution metrics\n",
    "    query_length = len(str(query))  # Length of the query as a feature\n",
    "    used_index = 1 if 'customer_id' in str(query) else 0  # Check if an index is used\n",
    "    docs_examined = collection.count_documents(query)  # Number of documents examined\n",
    "    nreturned = len(list(result))  # Number of documents returned\n",
    "\n",
    "    # Prepare input data for prediction\n",
    "    input_data = [[query_length, used_index, docs_examined, nreturned]]\n",
    "    scaled_data = scaler.transform(input_data)  # Scale the data\n",
    "    predicted_time = model.predict(scaled_data)  # Get the prediction\n",
    "    \n",
    "    # Generate suggestions based on predicted execution time\n",
    "    suggestions = []\n",
    "    if predicted_time[0] > 5:  # Threshold for execution time in ms\n",
    "        suggestions.append(\"Consider adding an index to improve query performance.\")\n",
    "    if docs_examined > 100:  # Threshold for examined documents\n",
    "        suggestions.append(\"Try to limit the number of documents examined by refining your query.\")\n",
    "    if query_length > 50:  # Threshold for query length\n",
    "        suggestions.append(\"Optimize the query structure to reduce its length.\")\n",
    "\n",
    "    return predicted_time[0], suggestions\n",
    "\n",
    "# Define the query to run\n",
    "query = {\n",
    "    \"customer_id\": \"123\"  # Replace with an actual customer ID\n",
    "}\n",
    "\n",
    "# Run the query and get predictions\n",
    "predicted_time, suggestions = run_query_and_predict(query)\n",
    "\n",
    "# Print the results\n",
    "print(f\"Predicted execution time: {predicted_time:.2f} ms\")\n",
    "print(\"Suggestions:\")\n",
    "for suggestion in suggestions:\n",
    "    print(f\"- {suggestion}\")\n"
   ]
  }
 ],
 "metadata": {
  "kernelspec": {
   "display_name": "Python 3 (ipykernel)",
   "language": "python",
   "name": "python3"
  },
  "language_info": {
   "codemirror_mode": {
    "name": "ipython",
    "version": 3
   },
   "file_extension": ".py",
   "mimetype": "text/x-python",
   "name": "python",
   "nbconvert_exporter": "python",
   "pygments_lexer": "ipython3",
   "version": "3.12.0"
  }
 },
 "nbformat": 4,
 "nbformat_minor": 5
}
